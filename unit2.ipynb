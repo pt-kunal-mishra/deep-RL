{
 "cells": [
  {
   "cell_type": "code",
   "execution_count": 1,
   "id": "6da2a663",
   "metadata": {},
   "outputs": [
    {
     "name": "stdout",
     "output_type": "stream",
     "text": [
      "Defaulting to user installation because normal site-packages is not writeable\n",
      "Collecting gymnasium (from -r https://raw.githubusercontent.com/huggingface/deep-rl-class/main/notebooks/unit2/requirements-unit2.txt (line 1))\n",
      "  Downloading gymnasium-1.1.1-py3-none-any.whl.metadata (9.4 kB)\n",
      "Requirement already satisfied: pygame in c:\\users\\kunal.mishra\\appdata\\roaming\\python\\python312\\site-packages (from -r https://raw.githubusercontent.com/huggingface/deep-rl-class/main/notebooks/unit2/requirements-unit2.txt (line 2)) (2.6.1)\n",
      "Requirement already satisfied: numpy in c:\\users\\kunal.mishra\\appdata\\roaming\\python\\python312\\site-packages (from -r https://raw.githubusercontent.com/huggingface/deep-rl-class/main/notebooks/unit2/requirements-unit2.txt (line 3)) (1.26.4)\n",
      "Requirement already satisfied: huggingface_hub in c:\\users\\kunal.mishra\\appdata\\roaming\\python\\python312\\site-packages (from -r https://raw.githubusercontent.com/huggingface/deep-rl-class/main/notebooks/unit2/requirements-unit2.txt (line 5)) (0.29.1)\n",
      "Collecting pickle5 (from -r https://raw.githubusercontent.com/huggingface/deep-rl-class/main/notebooks/unit2/requirements-unit2.txt (line 6))\n",
      "  Downloading pickle5-0.0.11.tar.gz (132 kB)\n",
      "  Preparing metadata (setup.py): started\n",
      "  Preparing metadata (setup.py): finished with status 'done'\n",
      "Collecting pyyaml==6.0 (from -r https://raw.githubusercontent.com/huggingface/deep-rl-class/main/notebooks/unit2/requirements-unit2.txt (line 7))\n",
      "  Downloading PyYAML-6.0.tar.gz (124 kB)\n",
      "  Installing build dependencies: started\n",
      "  Installing build dependencies: finished with status 'done'\n",
      "  Getting requirements to build wheel: started\n",
      "  Getting requirements to build wheel: finished with status 'error'\n"
     ]
    },
    {
     "name": "stderr",
     "output_type": "stream",
     "text": [
      "WARNING: Ignoring invalid distribution ~orch (C:\\Users\\Kunal.Mishra\\AppData\\Roaming\\Python\\Python312\\site-packages)\n",
      "  error: subprocess-exited-with-error\n",
      "  \n",
      "  × Getting requirements to build wheel did not run successfully.\n",
      "  │ exit code: 1\n",
      "  ╰─> [67 lines of output]\n",
      "      C:\\Users\\Kunal.Mishra\\AppData\\Local\\Temp\\pip-build-env-1h4peu9j\\overlay\\Lib\\site-packages\\setuptools\\dist.py:759: SetuptoolsDeprecationWarning: License classifiers are deprecated.\n",
      "      !!\n",
      "      \n",
      "              ********************************************************************************\n",
      "              Please consider removing the following classifiers in favor of a SPDX license expression:\n",
      "      \n",
      "              License :: OSI Approved :: MIT License\n",
      "      \n",
      "              See https://packaging.python.org/en/latest/guides/writing-pyproject-toml/#license for details.\n",
      "              ********************************************************************************\n",
      "      \n",
      "      !!\n",
      "        self._finalize_license_expression()\n",
      "      running egg_info\n",
      "      writing lib\\PyYAML.egg-info\\PKG-INFO\n",
      "      writing dependency_links to lib\\PyYAML.egg-info\\dependency_links.txt\n",
      "      writing top-level names to lib\\PyYAML.egg-info\\top_level.txt\n",
      "      Traceback (most recent call last):\n",
      "        File \"C:\\Users\\Kunal.Mishra\\AppData\\Roaming\\Python\\Python312\\site-packages\\pip\\_vendor\\pyproject_hooks\\_in_process\\_in_process.py\", line 389, in <module>\n",
      "          main()\n",
      "        File \"C:\\Users\\Kunal.Mishra\\AppData\\Roaming\\Python\\Python312\\site-packages\\pip\\_vendor\\pyproject_hooks\\_in_process\\_in_process.py\", line 373, in main\n",
      "          json_out[\"return_val\"] = hook(**hook_input[\"kwargs\"])\n",
      "                                   ^^^^^^^^^^^^^^^^^^^^^^^^^^^^\n",
      "        File \"C:\\Users\\Kunal.Mishra\\AppData\\Roaming\\Python\\Python312\\site-packages\\pip\\_vendor\\pyproject_hooks\\_in_process\\_in_process.py\", line 143, in get_requires_for_build_wheel\n",
      "          return hook(config_settings)\n",
      "                 ^^^^^^^^^^^^^^^^^^^^^\n",
      "        File \"C:\\Users\\Kunal.Mishra\\AppData\\Local\\Temp\\pip-build-env-1h4peu9j\\overlay\\Lib\\site-packages\\setuptools\\build_meta.py\", line 331, in get_requires_for_build_wheel\n",
      "          return self._get_build_requires(config_settings, requirements=[])\n",
      "                 ^^^^^^^^^^^^^^^^^^^^^^^^^^^^^^^^^^^^^^^^^^^^^^^^^^^^^^^^^^\n",
      "        File \"C:\\Users\\Kunal.Mishra\\AppData\\Local\\Temp\\pip-build-env-1h4peu9j\\overlay\\Lib\\site-packages\\setuptools\\build_meta.py\", line 301, in _get_build_requires\n",
      "          self.run_setup()\n",
      "        File \"C:\\Users\\Kunal.Mishra\\AppData\\Local\\Temp\\pip-build-env-1h4peu9j\\overlay\\Lib\\site-packages\\setuptools\\build_meta.py\", line 317, in run_setup\n",
      "          exec(code, locals())\n",
      "        File \"<string>\", line 288, in <module>\n",
      "        File \"C:\\Users\\Kunal.Mishra\\AppData\\Local\\Temp\\pip-build-env-1h4peu9j\\overlay\\Lib\\site-packages\\setuptools\\__init__.py\", line 117, in setup\n",
      "          return distutils.core.setup(**attrs)\n",
      "                 ^^^^^^^^^^^^^^^^^^^^^^^^^^^^^\n",
      "        File \"C:\\Users\\Kunal.Mishra\\AppData\\Local\\Temp\\pip-build-env-1h4peu9j\\overlay\\Lib\\site-packages\\setuptools\\_distutils\\core.py\", line 186, in setup\n",
      "          return run_commands(dist)\n",
      "                 ^^^^^^^^^^^^^^^^^^\n",
      "        File \"C:\\Users\\Kunal.Mishra\\AppData\\Local\\Temp\\pip-build-env-1h4peu9j\\overlay\\Lib\\site-packages\\setuptools\\_distutils\\core.py\", line 202, in run_commands\n",
      "          dist.run_commands()\n",
      "        File \"C:\\Users\\Kunal.Mishra\\AppData\\Local\\Temp\\pip-build-env-1h4peu9j\\overlay\\Lib\\site-packages\\setuptools\\_distutils\\dist.py\", line 1002, in run_commands\n",
      "          self.run_command(cmd)\n",
      "        File \"C:\\Users\\Kunal.Mishra\\AppData\\Local\\Temp\\pip-build-env-1h4peu9j\\overlay\\Lib\\site-packages\\setuptools\\dist.py\", line 1104, in run_command\n",
      "          super().run_command(command)\n",
      "        File \"C:\\Users\\Kunal.Mishra\\AppData\\Local\\Temp\\pip-build-env-1h4peu9j\\overlay\\Lib\\site-packages\\setuptools\\_distutils\\dist.py\", line 1021, in run_command\n",
      "          cmd_obj.run()\n",
      "        File \"C:\\Users\\Kunal.Mishra\\AppData\\Local\\Temp\\pip-build-env-1h4peu9j\\overlay\\Lib\\site-packages\\setuptools\\command\\egg_info.py\", line 312, in run\n",
      "          self.find_sources()\n",
      "        File \"C:\\Users\\Kunal.Mishra\\AppData\\Local\\Temp\\pip-build-env-1h4peu9j\\overlay\\Lib\\site-packages\\setuptools\\command\\egg_info.py\", line 320, in find_sources\n",
      "          mm.run()\n",
      "        File \"C:\\Users\\Kunal.Mishra\\AppData\\Local\\Temp\\pip-build-env-1h4peu9j\\overlay\\Lib\\site-packages\\setuptools\\command\\egg_info.py\", line 543, in run\n",
      "          self.add_defaults()\n",
      "        File \"C:\\Users\\Kunal.Mishra\\AppData\\Local\\Temp\\pip-build-env-1h4peu9j\\overlay\\Lib\\site-packages\\setuptools\\command\\egg_info.py\", line 581, in add_defaults\n",
      "          sdist.add_defaults(self)\n",
      "        File \"C:\\Users\\Kunal.Mishra\\AppData\\Local\\Temp\\pip-build-env-1h4peu9j\\overlay\\Lib\\site-packages\\setuptools\\command\\sdist.py\", line 109, in add_defaults\n",
      "          super().add_defaults()\n",
      "        File \"C:\\Users\\Kunal.Mishra\\AppData\\Local\\Temp\\pip-build-env-1h4peu9j\\overlay\\Lib\\site-packages\\setuptools\\_distutils\\command\\sdist.py\", line 245, in add_defaults\n",
      "          self._add_defaults_ext()\n",
      "        File \"C:\\Users\\Kunal.Mishra\\AppData\\Local\\Temp\\pip-build-env-1h4peu9j\\overlay\\Lib\\site-packages\\setuptools\\_distutils\\command\\sdist.py\", line 330, in _add_defaults_ext\n",
      "          self.filelist.extend(build_ext.get_source_files())\n",
      "                               ^^^^^^^^^^^^^^^^^^^^^^^^^^^^\n",
      "        File \"<string>\", line 204, in get_source_files\n",
      "        File \"C:\\Users\\Kunal.Mishra\\AppData\\Local\\Temp\\pip-build-env-1h4peu9j\\overlay\\Lib\\site-packages\\setuptools\\_distutils\\cmd.py\", line 131, in __getattr__\n",
      "          raise AttributeError(attr)\n",
      "      AttributeError: cython_sources\n",
      "      [end of output]\n",
      "  \n",
      "  note: This error originates from a subprocess, and is likely not a problem with pip.\n",
      "\n",
      "[notice] A new release of pip is available: 25.0.1 -> 25.1\n",
      "[notice] To update, run: python.exe -m pip install --upgrade pip\n",
      "error: subprocess-exited-with-error\n",
      "\n",
      "× Getting requirements to build wheel did not run successfully.\n",
      "│ exit code: 1\n",
      "╰─> See above for output.\n",
      "\n",
      "note: This error originates from a subprocess, and is likely not a problem with pip.\n"
     ]
    }
   ],
   "source": [
    "!pip install -r https://raw.githubusercontent.com/huggingface/deep-rl-class/main/notebooks/unit2/requirements-unit2.txt"
   ]
  },
  {
   "cell_type": "code",
   "execution_count": 2,
   "id": "68018aec",
   "metadata": {},
   "outputs": [
    {
     "name": "stderr",
     "output_type": "stream",
     "text": [
      "Sudo is disabled on this machine. To enable it, go to the \u001b]8;;ms-settings:developers\u001b\\Developer Settings page\u001b]8;;\u001b\\ in the Settings app\n",
      "Sudo is disabled on this machine. To enable it, go to the \u001b]8;;ms-settings:developers\u001b\\Developer Settings page\u001b]8;;\u001b\\ in the Settings app\n",
      "'apt' is not recognized as an internal or external command,\n",
      "operable program or batch file.\n"
     ]
    },
    {
     "name": "stdout",
     "output_type": "stream",
     "text": [
      "Defaulting to user installation because normal site-packages is not writeable\n",
      "Collecting pyvirtualdisplay\n",
      "  Downloading PyVirtualDisplay-3.0-py3-none-any.whl.metadata (943 bytes)\n",
      "Downloading PyVirtualDisplay-3.0-py3-none-any.whl (15 kB)\n",
      "Installing collected packages: pyvirtualdisplay\n",
      "Successfully installed pyvirtualdisplay-3.0\n"
     ]
    },
    {
     "name": "stderr",
     "output_type": "stream",
     "text": [
      "WARNING: Ignoring invalid distribution ~orch (C:\\Users\\Kunal.Mishra\\AppData\\Roaming\\Python\\Python312\\site-packages)\n",
      "WARNING: Ignoring invalid distribution ~orch (C:\\Users\\Kunal.Mishra\\AppData\\Roaming\\Python\\Python312\\site-packages)\n",
      "WARNING: Ignoring invalid distribution ~orch (C:\\Users\\Kunal.Mishra\\AppData\\Roaming\\Python\\Python312\\site-packages)\n",
      "\n",
      "[notice] A new release of pip is available: 25.0.1 -> 25.1\n",
      "[notice] To update, run: python.exe -m pip install --upgrade pip\n"
     ]
    }
   ],
   "source": [
    "!sudo apt-get update\n",
    "!sudo apt-get install -y python3-opengl\n",
    "!apt install ffmpeg xvfb\n",
    "!pip3 install pyvirtualdisplay"
   ]
  }
 ],
 "metadata": {
  "kernelspec": {
   "display_name": "Python 3",
   "language": "python",
   "name": "python3"
  },
  "language_info": {
   "codemirror_mode": {
    "name": "ipython",
    "version": 3
   },
   "file_extension": ".py",
   "mimetype": "text/x-python",
   "name": "python",
   "nbconvert_exporter": "python",
   "pygments_lexer": "ipython3",
   "version": "3.12.4"
  }
 },
 "nbformat": 4,
 "nbformat_minor": 5
}
